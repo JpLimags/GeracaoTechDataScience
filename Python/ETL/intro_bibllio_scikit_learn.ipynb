{
 "cells": [
  {
   "cell_type": "markdown",
   "metadata": {},
   "source": [
    "Neste problema iremos criar uma massa de dados com 200 observações, com apenas uma variável preditora, que será a variável x e a variável target, que será a y. Para isso indicamos os parâmetros n_samples = 200 e n_features = 1. O parâmetro noise define o quão dispersos os dados estarão um dos outros."
   ]
  },
  {
   "cell_type": "code",
   "execution_count": 48,
   "metadata": {},
   "outputs": [],
   "source": [
    "import pandas as pd\n",
    "import matplotlib.pyplot as plt\n",
    "from sklearn.datasets import make_regression\n",
    "from sklearn.linear_model import LinearRegression"
   ]
  },
  {
   "cell_type": "code",
   "execution_count": 49,
   "metadata": {},
   "outputs": [],
   "source": [
    "#O noise é um parâmetro de ruído, que mostra o quão dispersos estão os dados um dos outros\n",
    "\n",
    "x, y = make_regression(n_samples=200, n_features=1, noise=30)"
   ]
  },
  {
   "cell_type": "code",
   "execution_count": 50,
   "metadata": {},
   "outputs": [
    {
     "data": {
      "image/png": "[encoded data removed]",
      "text/plain": [
       "<Figure size 432x288 with 1 Axes>"
      ]
     },
     "metadata": {
      "needs_background": "light"
     },
     "output_type": "display_data"
    }
   ],
   "source": [
    "plt.scatter(x,y)\n",
    "plt.show()"
   ]
  },
  {
   "cell_type": "code",
   "execution_count": 51,
   "metadata": {},
   "outputs": [],
   "source": [
    "#O modelo que será gerado é um modelo de regressão linear\n",
    "\n",
    "#Gerando o model\n",
    "\n",
    "model = LinearRegression()"
   ]
  },
  {
   "cell_type": "code",
   "execution_count": 52,
   "metadata": {},
   "outputs": [
    {
     "data": {
      "text/plain": [
       "LinearRegression()"
      ]
     },
     "execution_count": 52,
     "metadata": {},
     "output_type": "execute_result"
    }
   ],
   "source": [
    "#Agora para treinar o modelo usaremos o método fit\n",
    "model.fit(x,y)"
   ]
  },
  {
   "cell_type": "code",
   "execution_count": 53,
   "metadata": {},
   "outputs": [
    {
     "data": {
      "text/plain": [
       "array([-2.93078547e+01,  6.69506190e+01, -1.29888578e+02,  3.56569222e+00,\n",
       "        7.14999600e+01, -6.48829049e+01, -5.37917439e+01,  3.73529773e+01,\n",
       "        4.91533129e+01,  5.36638163e+01, -2.69726294e+01,  5.59569987e+00,\n",
       "        1.86105788e+01,  8.14072967e+00,  4.36795424e+01,  1.80021827e-01,\n",
       "        5.36282165e+00, -1.00307021e+02,  6.53977153e+00,  1.56541902e+02,\n",
       "       -2.24817581e+01, -5.27791094e+01,  4.81065835e+00, -2.33646485e+01,\n",
       "        4.57789943e+01,  7.68830977e-01, -5.98669142e+01, -2.37284824e+02,\n",
       "        1.88076133e+01,  1.72500880e+01,  4.24741511e+01,  3.01008857e+01,\n",
       "        1.04199399e+02, -1.02679591e+01, -1.42014677e+01,  8.38160889e+00,\n",
       "       -1.21524272e+01,  1.23119934e+02, -7.20232071e+00, -1.00512811e+02,\n",
       "       -4.72435367e+00, -1.33013995e+00,  2.13324818e+02,  1.31216925e+02,\n",
       "       -3.42064527e+01,  5.40069957e+00,  8.92535099e+00,  2.08294095e+01,\n",
       "        3.33551680e+01,  8.11372200e+01, -4.92487121e+01,  3.99575049e+01,\n",
       "        1.62874819e+01, -5.31973893e+01,  5.68588207e+01,  1.05246202e+01,\n",
       "       -5.58095648e+01,  4.85417374e+01, -3.10207318e+01,  1.06959931e+01,\n",
       "       -2.41053127e+01, -8.93776917e+01,  8.19654893e+01,  6.07122229e+01,\n",
       "        7.43325024e+01,  7.12879255e+00, -1.99313661e+01, -1.69495843e+02,\n",
       "       -6.75260861e+00,  7.65070873e+00,  5.20582675e+01,  8.37372247e+01,\n",
       "       -1.62527022e+01,  9.19208329e+01, -3.25269393e+00,  8.09927001e+01,\n",
       "        6.96614160e+01,  8.78677753e+01, -3.12783118e+01,  6.39394992e+01,\n",
       "       -4.92786582e+01,  2.29224273e+02,  4.32657500e+01,  4.62358812e+01,\n",
       "        8.02320532e+01,  4.45481621e+01, -2.74850264e+01, -9.06811320e+01,\n",
       "       -5.86686882e+01,  1.89066965e+01, -1.24768779e+02,  9.23026394e+01,\n",
       "        3.03934942e+01,  9.20054641e+01, -7.49766965e+01,  1.97477941e+00,\n",
       "       -3.03102778e+01, -5.66295588e+01,  1.35533649e+01,  1.88370763e+01,\n",
       "       -2.85015207e+01, -3.35818943e+01,  1.11222882e+02, -1.15921497e+02,\n",
       "        3.63099185e+01,  3.75407482e+01, -7.30699155e+01,  1.51750862e+02,\n",
       "        1.12220821e+01,  3.99015781e+00,  4.25823150e+01,  3.84977696e+01,\n",
       "       -6.06337687e+01,  1.49820662e+01, -5.44553163e+00, -1.18604885e+02,\n",
       "       -1.46307354e+01, -4.80110490e+00, -2.30795228e+01, -6.31673744e+01,\n",
       "        8.91101867e+01,  7.24531243e+01, -8.77193690e+00, -9.76161469e+01,\n",
       "        1.29974909e+02, -7.55133368e+01, -4.37859452e+01, -3.28411809e+01,\n",
       "       -3.89645670e+01,  7.27645341e+00,  4.29624031e+01,  6.48278479e+01,\n",
       "       -4.14157894e+01,  7.53627849e+01,  1.58417318e+01,  2.97632790e+01,\n",
       "        3.24533140e+01,  8.35023291e+01,  7.99305461e+01, -7.74376564e+01,\n",
       "        7.83805142e+01, -1.41833509e+01,  5.38094030e+01, -5.23395800e+01,\n",
       "        3.62548493e+01, -9.68626502e+01, -7.79320564e+01,  1.56621258e+01,\n",
       "       -7.25659924e+01,  4.91230598e+00, -2.05390348e+01, -1.03131955e+02,\n",
       "       -1.50131466e+02,  2.23799486e+00,  7.46682384e+01, -1.33820797e+02,\n",
       "        1.24487395e+02,  4.43502300e+01,  1.25646104e+02, -4.76323565e-01,\n",
       "       -8.81791113e+01, -1.20204741e+02, -5.14556049e+01,  6.72539771e-01,\n",
       "       -8.08569488e+01,  5.97508130e+01,  7.70926411e+00, -3.32994947e+01,\n",
       "        6.74341833e+00, -1.34299573e+02,  1.32437523e+02, -7.31751507e+01,\n",
       "       -1.16006383e+02,  3.68329126e+01, -7.15101962e+01,  1.11506863e+02,\n",
       "        3.31306431e+01,  2.28132482e+01, -9.96645977e+01,  2.51689937e+01,\n",
       "        8.31020505e+00, -9.26126447e-02,  3.21831023e+01,  2.67952936e+00,\n",
       "        6.68646551e+01,  8.80960365e+01, -2.96939245e+01, -3.50161670e+00,\n",
       "       -1.77981785e+01, -6.20103613e+01, -2.37324307e+00,  5.65040199e+01,\n",
       "        5.43495665e+01, -4.83785971e+01, -1.00418143e+02,  3.61634551e+01,\n",
       "        7.92029169e+01, -3.01467978e+01,  8.33095432e-03,  4.71606063e+01])"
      ]
     },
     "execution_count": 53,
     "metadata": {},
     "output_type": "execute_result"
    }
   ],
   "source": [
    "model.predict(x)"
   ]
  },
  {
   "cell_type": "code",
   "execution_count": 54,
   "metadata": {},
   "outputs": [
    {
     "data": {
      "image/png": "[encoded data removed]",
      "text/plain": [
       "<Figure size 432x288 with 1 Axes>"
      ]
     },
     "metadata": {
      "needs_background": "light"
     },
     "output_type": "display_data"
    }
   ],
   "source": [
    "#Plotando o gráfico com uma reta traçada através dos dados\n",
    "\n",
    "plt.scatter(x,y)\n",
    "plt.plot(x, model.predict(x), color = 'red', linewidth=3)\n",
    "plt.show()"
   ]
  }
 ],
 "metadata": {
  "kernelspec": {
   "display_name": "Python 3.9.12 ('base')",
   "language": "python",
   "name": "python3"
  },
  "language_info": {
   "codemirror_mode": {
    "name": "ipython",
    "version": 3
   },
   "file_extension": ".py",
   "mimetype": "text/x-python",
   "name": "python",
   "nbconvert_exporter": "python",
   "pygments_lexer": "ipython3",
   "version": "3.9.12"
  },
  "orig_nbformat": 4,
  "vscode": {
   "interpreter": {
    "hash": "0572d23902cb71527ca39b5468791ba2108028c22d68d1957bdf14c75c68bccb"
   }
  }
 },
 "nbformat": 4,
 "nbformat_minor": 2
}
